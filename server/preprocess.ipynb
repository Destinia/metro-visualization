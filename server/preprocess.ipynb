{
 "cells": [
  {
   "cell_type": "code",
   "execution_count": null,
   "metadata": {
    "collapsed": true
   },
   "outputs": [],
   "source": [
    "import json"
   ]
  },
  {
   "cell_type": "code",
   "execution_count": null,
   "metadata": {},
   "outputs": [],
   "source": [
    "data = json.load(open('metro_raw.geojson', encoding='utf-8', errors='ignore'))"
   ]
  },
  {
   "cell_type": "code",
   "execution_count": null,
   "metadata": {},
   "outputs": [],
   "source": [
    "def filter_line(features, name):\n",
    "    return [item for item in features if item['properties']['name'] == name]\n",
    "\n",
    "def near(x, y):\n",
    "    dis = abs(x[0] - y[0]) + abs(x[1] - y[1])\n",
    "    return dis < 0.001\n",
    "\n",
    "def aggregate_coordinates(cords):\n",
    "    for _ in range(len(cords)):\n",
    "#         base = cords.pop()\n",
    "        base = cords.pop(0)\n",
    "        for cord in cords:\n",
    "            if near(base[0], cord[-1]):\n",
    "                base = cord[:-1] + base\n",
    "                cords.pop(cords.index(cord))\n",
    "            elif near(base[-1], cord[0]):\n",
    "                base = base[:-1] + cord\n",
    "                cords.pop(cords.index(cord))\n",
    "#         cords.insert(0, base)\n",
    "        cords.append(base)\n",
    "\n",
    "    return cords\n",
    "\n",
    "def aggregate_coordinates_reverse(cords):\n",
    "    for _ in range(len(cords)):\n",
    "        base = cords.pop(0)\n",
    "        for cord in cords:\n",
    "            if near(base[0], cord[0]):\n",
    "                base = list(reversed(cord[1:])) + base\n",
    "                cords.pop(cords.index(cord))\n",
    "            elif near(base[-1], cord[-1]):\n",
    "                base = base + list(reversed(cord[:-1]))\n",
    "                cords.pop(cords.index(cord))\n",
    "        cords.append(base)\n",
    "\n",
    "\n",
    "    return cords"
   ]
  },
  {
   "cell_type": "code",
   "execution_count": null,
   "metadata": {
    "collapsed": true
   },
   "outputs": [],
   "source": [
    "cords = [item['geometry']['coordinates'] for item in filter_line(data['features'], '捷運淡水信義線')]"
   ]
  },
  {
   "cell_type": "code",
   "execution_count": null,
   "metadata": {
    "scrolled": true
   },
   "outputs": [],
   "source": [
    "for _ in range(len(cords)):\n",
    "    cords = aggregate_coordinates(cords)\n",
    "for _ in range(len(cords)):\n",
    "    cords = aggregate_coordinates_reverse(cords)\n",
    "\n",
    "for r in cords:\n",
    "    print(len(r), '---------------------\\n', r)"
   ]
  }
 ],
 "metadata": {
  "kernelspec": {
   "display_name": "Python 3",
   "language": "python",
   "name": "python3"
  },
  "language_info": {
   "codemirror_mode": {
    "name": "ipython",
    "version": 3
   },
   "file_extension": ".py",
   "mimetype": "text/x-python",
   "name": "python",
   "nbconvert_exporter": "python",
   "pygments_lexer": "ipython3",
   "version": "3.6.1"
  }
 },
 "nbformat": 4,
 "nbformat_minor": 2
}
